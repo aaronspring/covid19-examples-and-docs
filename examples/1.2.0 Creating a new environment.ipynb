{
 "cells": [
  {
   "cell_type": "markdown",
   "metadata": {},
   "source": [
    "# Creating a Custom Environment\n",
    "\n",
    "The COVID-19 Response Platform comes with a default Python environment and a default R environment that you can use in notebooks to run code you have written. You may find that you need to use other packages not included in these default environments for some code that you are writing.\n",
    "\n",
    "The easiest way to do this is to create your own custom environment that includes the extra packages that you need to use. This notebook will take you through the steps needed to create your own environment.\n",
    "\n",
    "## What is an environment?\n",
    "\n",
    "An environment is a self-contained and usable install of a programming language, such as Python or R. The fact that it is self-contained means you can have multiple such installs on a single filesystem without them interfering with each other or causing each other to break. Environments bring the added advantage that they are very easy to switch between, so you can easily change environments based on the work you need to do.\n",
    "\n",
    "All environments on the COVID-19 Response Platform are provided as [conda](https://docs.conda.io/en/latest/) environments, including the default environments. Conda provides us with some very useful tools for creating, customising, activating and deactivating environments, and we'll make extensive use of `conda` throughout this guide."
   ]
  },
  {
   "cell_type": "markdown",
   "metadata": {},
   "source": [
    "## Overview: creating an environment\n",
    "\n",
    "Here's the high-level overview of the steps we'll follow to create our own custom environment. We'll go into much more detail on each step below, including providing all the code needed for each step:\n",
    "\n",
    "1. Create a new conda environment and activate it.\n",
    "1. Customise the environment by adding specific packages to it (for both R and Python)\n",
    "1. Register the environment as a Jupyter kernel\n",
    "\n",
    "## Detail: creating an environment\n",
    "\n",
    "Let's go into detail on each of the three steps for creating a custom environment. All of the steps listed as code here can either be run in the Jupyter notebook, or copied into the JupyterLab terminal and run there. To launch a new terminal, open the file browser pane on the left side of the screen and click the `+` icon to open the New Launcher tab. Select 'Terminal' under 'Other'.\n",
    "\n",
    "Note the exclamation mark (`!`) at the start of each of the code lines in this notebook:\n",
    "\n",
    "```bash\n",
    "! conda activate myenv\n",
    "```\n",
    "\n",
    "This tells the notebook to run the command as a bash command, rather than a Python or R command.\n",
    "\n",
    "### Setup\n",
    "\n",
    "Let's set a few bash environment variables for things we're going to repeatedly make use of during this process. If you're following this document using the terminal, feel free to either set these environment variables or just use the values set in them directly. "
   ]
  },
  {
   "cell_type": "code",
   "execution_count": null,
   "metadata": {},
   "outputs": [],
   "source": [
    "!ENV_NAME=myenv"
   ]
  },
  {
   "cell_type": "markdown",
   "metadata": {},
   "source": [
    "### 1. Create a new conda environment\n",
    "\n",
    "We start by making a new conda environment to which we can add the extra packages we need. All conda environments need to include a set of default packages to ensure the conda environment can be used with JupyterLab correctly."
   ]
  },
  {
   "cell_type": "code",
   "execution_count": null,
   "metadata": {},
   "outputs": [],
   "source": [
    "!conda create -n $ENV_NAME \\\n",
    "              -c conda-forge \\\n",
    "              python ipywidgets nbconvert jupyterlab"
   ]
  },
  {
   "cell_type": "markdown",
   "metadata": {},
   "source": [
    "Let's explore that command quickly. We are using the `conda create` command to make a new environment. Then: \n",
    "* the `-n` flag sets the name of the environment, \n",
    "* the `-c` flag specifies the channel that we want to install packages from (an advanced feature; the channel `conda-forge` should suffice), and\n",
    "* the third line contains the list of default packages we want to install.\n",
    "\n",
    "So far this conda environment only contains the minimum amount of packages. To make it useful for our purposes we need to install our own packages into the environment. To do this we need first to activate the environment. Activating an environment means that any executables stored within the environment (notably the Python or R executable) are made available to the system as primary executables, so that they are used in place of the system defaults for those executables.\n",
    "\n",
    "To demonstrate this, look at the change to the Python executable before and after activating our new environment:"
   ]
  },
  {
   "cell_type": "code",
   "execution_count": null,
   "metadata": {},
   "outputs": [],
   "source": [
    "!which python"
   ]
  },
  {
   "cell_type": "code",
   "execution_count": null,
   "metadata": {},
   "outputs": [],
   "source": [
    "# Need to do this the first time you use the conda executable on Pangeo: \n",
    "# conda init bash\n",
    "\n",
    "!conda activate $ENV_NAME\n",
    "!which python"
   ]
  },
  {
   "cell_type": "markdown",
   "metadata": {},
   "source": [
    "### 2. Customise your environment\n",
    "\n",
    "Now that we've created and activated our environment, we can customise the environment to make it what we want by installing more packages into it. I'll demonstrate this for both Python and R, but the approach is very similar for each.\n",
    "\n",
    "In both cases we'll continue to fetch packages from the _conda-forge_ channel. Many packages - Python and more - are available in _conda-forge_, but other channels also exist. If you get an error saying a package could not be found, you can also search for it using the [Anaconda browser](https://anaconda.org/) to see if it's available in a different channel.\n",
    "\n",
    "**Note**: it's generally best to try and install all packages from the same channel, wherever possible.\n",
    "\n",
    "#### 2.1. Custom Python packages\n",
    "\n",
    "Let's add some Python packages to our environment. For the sake of example we'll just add `NumPy` and `Pandas` (which are both already in the default Python environment!), but exactly the same process could be followed for installing other packages."
   ]
  },
  {
   "cell_type": "code",
   "execution_count": null,
   "metadata": {},
   "outputs": [],
   "source": [
    "!conda install -c conda-forge numpy pandas"
   ]
  },
  {
   "cell_type": "markdown",
   "metadata": {},
   "source": [
    "#### 2.2 Custom R packages\n",
    "\n",
    "This time let's add some R packages to our environment. The process is much the same as with Python - we specify some packages to install - but this time they'll be R packages rather than Python packages. Let's install the `r-tidyverse` group of packages, and `ggplot2`:\n",
    "\n",
    "**Note:** with R it's best to explicitly also install R itself to ensure that the R executable is definitely available in the environment. If it's already there conda will recognise it's already installed and skip installing it again."
   ]
  },
  {
   "cell_type": "code",
   "execution_count": null,
   "metadata": {},
   "outputs": [],
   "source": [
    "!conda install -c conda-forge r r-tidyverse r-ggplot2"
   ]
  },
  {
   "cell_type": "markdown",
   "metadata": {},
   "source": [
    "### 3. Register the kernel\n",
    "\n",
    "We've now successfully created, activated and customised our environment. However, if you were to open the Launcher now, our environment would not appear in the list of environments. This is because there's one more step to do, which is to register the environment as a Jupyter kernel. Doing so means that JupyterLab knows about the environment as something it can use to run a Jupyter kernel (the part of Jupyter that actually executes the code written in a notebook). \n",
    "\n",
    "Registering the environment as a kernel means it will also show up in the launcher, so let's do that now. Again we'll need to follow a slightly different route for Python and R.\n",
    "\n",
    "#### 3.1 Registering the kernel with Python\n",
    "\n",
    "In Python we can use functionality provided with the Jupyter package to register the kernel: "
   ]
  },
  {
   "cell_type": "code",
   "execution_count": null,
   "metadata": {},
   "outputs": [],
   "source": [
    "!python -m ipykernel install --user --name $ENV_NAME --display-name \"Python ($ENV_NAME)\""
   ]
  },
  {
   "cell_type": "markdown",
   "metadata": {},
   "source": [
    "#### 3.2 Registering the kernel with R\n",
    "\n",
    "In R we need to install another package for Jupyter interactions. We do this with `conda` then run a short R code snippet to register the R kernel:"
   ]
  },
  {
   "cell_type": "code",
   "execution_count": null,
   "metadata": {},
   "outputs": [],
   "source": [
    "!conda install -c conda-forge r-irkernel\n",
    "!Rscript -e 'IRkernel::installspec(name = Sys.getenv(\"ENV_NAME\"), displayname = sprintf(\"R (%s)\", Sys.getenv(\"ENV_NAME\")))'"
   ]
  },
  {
   "cell_type": "markdown",
   "metadata": {},
   "source": [
    "## That's it!\n",
    "\n",
    "You should now have a functioning conda environment that you can use with Jupyter notebooks for custom data processing. \n",
    "\n",
    "If you hit any difficulties along the way, do feel free to drop us an email on [covid19@informaticslab.co.uk](mailto:covid19@informaticslab.co.uk) or via the Google Groups page, and we'll do our best to help you out!"
   ]
  }
 ],
 "metadata": {
  "kernelspec": {
   "display_name": "Python 3",
   "language": "python",
   "name": "python3"
  },
  "language_info": {
   "codemirror_mode": {
    "name": "ipython",
    "version": 3
   },
   "file_extension": ".py",
   "mimetype": "text/x-python",
   "name": "python",
   "nbconvert_exporter": "python",
   "pygments_lexer": "ipython3",
   "version": "3.7.6"
  }
 },
 "nbformat": 4,
 "nbformat_minor": 4
}
